{
 "cells": [
  {
   "cell_type": "markdown",
   "id": "87061b9a",
   "metadata": {},
   "source": [
    "# FEATURE SCALING AND TRANSFORMATION"
   ]
  },
  {
   "cell_type": "markdown",
   "id": "16c86a85",
   "metadata": {},
   "source": [
    "### FEATURE SCALING:\n",
    "       Feature scaling is the process of scaling down the values of the features to certain range or limit.\n",
    "      "
   ]
  },
  {
   "cell_type": "markdown",
   "id": "5984e489",
   "metadata": {},
   "source": [
    "### WHY FEATURE SCALING ?\n",
    "        1.All the numerical values present in the feature will have magnitude and units.....for example if the name of the feature is distance and has the value of 135km......here 135 is magnitude and km is the unit\n",
    "        \n",
    "        2.If our use case is to find the timetaken to cover the distance we need features like distance,speed.\n",
    "        \n",
    "        3.Lets consider the distance is 135km and the speed is 50km/hr....we can also enter this as 135000 m and 50 km/hr\n",
    "        4.According to theory both the values are same....but if u impute this in the model...the whole process will be wrong because the model takes only the magnitude....so according to the model above 2 cases are not same.\n",
    "        \n",
    "        5.So by scaling we can scale down the values to the very minimum range irrespective of the unit.\n",
    "        \n",
    "        6.Another reason is in linear regression we will use gradient descent to find the minimum cost function...so the parabola should converge at the global minima point.\n",
    "        \n",
    "        7.if we are not scaled down the values the convergence wont be accurate......but if we scaled down the values we can expect some good global minima points\n",
    "       \n"
   ]
  },
  {
   "cell_type": "markdown",
   "id": "168e8a09",
   "metadata": {},
   "source": [
    "### WHERE FEATURE SCALING IS MUST AND WHERE IT IS NOT TO BE USED\n",
    "    Scaling techniques is must used in algorithms like linear regression,logistic regression,KNN,K means clustering etcc....because in all these algorithms we are calculating some values with the features...for example we will calculate euclidian distance in KNN.\n",
    "    \n",
    "    Scaling tecniques should not to be used in tecniques like decision trees,random forest,XGBoost.....if we use also there wont to be any impact.\n",
    "    \n",
    "    The conclusion is for every ML algorithms the scaling techniques is not compulsory\n"
   ]
  },
  {
   "cell_type": "markdown",
   "id": "d6c3a2cc",
   "metadata": {},
   "source": [
    "### TYPES OF TRANSFORMATIONS\n",
    "     1. Standardization\n",
    "     2. Normalization\n",
    "     3. Robust Scaler\n",
    "     4. Guassian Transformation\n",
    "         1.Logarithmic Transformation\n",
    "         2.Reciprocal Trnasformation\n",
    "         3.Square Root Transformation\n",
    "         4.Exponential Trnasformation\n",
    "         5.Box Cox Transformation    "
   ]
  },
  {
   "cell_type": "markdown",
   "id": "55ddf24f",
   "metadata": {},
   "source": [
    "# 1.STANDARDIZATION  (STANDARD SCALAR)"
   ]
  },
  {
   "cell_type": "markdown",
   "id": "520ffeb4",
   "metadata": {},
   "source": [
    "It is the process of scaling down the values to similar scale \n",
    "\n",
    "The values scaled according to the formula Z=X-X_mean/std\n",
    "\n",
    "scaled down feature will have the mean=0 and std=1"
   ]
  },
  {
   "cell_type": "code",
   "execution_count": 30,
   "id": "84c2c029",
   "metadata": {},
   "outputs": [
    {
     "data": {
      "text/html": [
       "<div>\n",
       "<style scoped>\n",
       "    .dataframe tbody tr th:only-of-type {\n",
       "        vertical-align: middle;\n",
       "    }\n",
       "\n",
       "    .dataframe tbody tr th {\n",
       "        vertical-align: top;\n",
       "    }\n",
       "\n",
       "    .dataframe thead th {\n",
       "        text-align: right;\n",
       "    }\n",
       "</style>\n",
       "<table border=\"1\" class=\"dataframe\">\n",
       "  <thead>\n",
       "    <tr style=\"text-align: right;\">\n",
       "      <th></th>\n",
       "      <th>sqft_living</th>\n",
       "      <th>sqft_living15</th>\n",
       "    </tr>\n",
       "  </thead>\n",
       "  <tbody>\n",
       "    <tr>\n",
       "      <th>0</th>\n",
       "      <td>1180</td>\n",
       "      <td>1340</td>\n",
       "    </tr>\n",
       "    <tr>\n",
       "      <th>1</th>\n",
       "      <td>2570</td>\n",
       "      <td>1690</td>\n",
       "    </tr>\n",
       "    <tr>\n",
       "      <th>2</th>\n",
       "      <td>770</td>\n",
       "      <td>2720</td>\n",
       "    </tr>\n",
       "    <tr>\n",
       "      <th>3</th>\n",
       "      <td>1960</td>\n",
       "      <td>1360</td>\n",
       "    </tr>\n",
       "    <tr>\n",
       "      <th>4</th>\n",
       "      <td>1680</td>\n",
       "      <td>1800</td>\n",
       "    </tr>\n",
       "  </tbody>\n",
       "</table>\n",
       "</div>"
      ],
      "text/plain": [
       "   sqft_living  sqft_living15\n",
       "0         1180           1340\n",
       "1         2570           1690\n",
       "2          770           2720\n",
       "3         1960           1360\n",
       "4         1680           1800"
      ]
     },
     "execution_count": 30,
     "metadata": {},
     "output_type": "execute_result"
    }
   ],
   "source": [
    "import pandas as pd\n",
    "import matplotlib.pyplot as plt\n",
    "%matplotlib inline\n",
    "data=pd.read_csv(\"D:\\datasets\\kc_house_data.csv\",usecols=['sqft_living','sqft_living15'])\n",
    "data.head()"
   ]
  },
  {
   "cell_type": "code",
   "execution_count": 31,
   "id": "865e9cef",
   "metadata": {},
   "outputs": [
    {
     "data": {
      "text/plain": [
       "sqft_living      0\n",
       "sqft_living15    0\n",
       "dtype: int64"
      ]
     },
     "execution_count": 31,
     "metadata": {},
     "output_type": "execute_result"
    }
   ],
   "source": [
    "data.isnull().sum()"
   ]
  },
  {
   "cell_type": "code",
   "execution_count": 57,
   "id": "0bf509ff",
   "metadata": {
    "scrolled": true
   },
   "outputs": [
    {
     "data": {
      "text/html": [
       "<div>\n",
       "<style scoped>\n",
       "    .dataframe tbody tr th:only-of-type {\n",
       "        vertical-align: middle;\n",
       "    }\n",
       "\n",
       "    .dataframe tbody tr th {\n",
       "        vertical-align: top;\n",
       "    }\n",
       "\n",
       "    .dataframe thead th {\n",
       "        text-align: right;\n",
       "    }\n",
       "</style>\n",
       "<table border=\"1\" class=\"dataframe\">\n",
       "  <thead>\n",
       "    <tr style=\"text-align: right;\">\n",
       "      <th></th>\n",
       "      <th>0</th>\n",
       "      <th>1</th>\n",
       "    </tr>\n",
       "  </thead>\n",
       "  <tbody>\n",
       "    <tr>\n",
       "      <th>0</th>\n",
       "      <td>-0.979835</td>\n",
       "      <td>-0.943355</td>\n",
       "    </tr>\n",
       "    <tr>\n",
       "      <th>1</th>\n",
       "      <td>0.533634</td>\n",
       "      <td>-0.432686</td>\n",
       "    </tr>\n",
       "    <tr>\n",
       "      <th>2</th>\n",
       "      <td>-1.426254</td>\n",
       "      <td>1.070140</td>\n",
       "    </tr>\n",
       "    <tr>\n",
       "      <th>3</th>\n",
       "      <td>-0.130550</td>\n",
       "      <td>-0.914174</td>\n",
       "    </tr>\n",
       "    <tr>\n",
       "      <th>4</th>\n",
       "      <td>-0.435422</td>\n",
       "      <td>-0.272190</td>\n",
       "    </tr>\n",
       "  </tbody>\n",
       "</table>\n",
       "</div>"
      ],
      "text/plain": [
       "          0         1\n",
       "0 -0.979835 -0.943355\n",
       "1  0.533634 -0.432686\n",
       "2 -1.426254  1.070140\n",
       "3 -0.130550 -0.914174\n",
       "4 -0.435422 -0.272190"
      ]
     },
     "execution_count": 57,
     "metadata": {},
     "output_type": "execute_result"
    }
   ],
   "source": [
    "from sklearn.preprocessing import StandardScaler\n",
    "scale=StandardScaler()\n",
    "data_scaled=scale.fit_transform(data)\n",
    "pd.DataFrame(data_scaled).head()"
   ]
  },
  {
   "cell_type": "markdown",
   "id": "3eb22922",
   "metadata": {},
   "source": [
    "The above table is the table with scaled values using standard scalar"
   ]
  },
  {
   "cell_type": "code",
   "execution_count": 41,
   "id": "c0c700f9",
   "metadata": {},
   "outputs": [
    {
     "data": {
      "text/plain": [
       "array([[-0.97983502, -0.9433552 ],\n",
       "       [ 0.53363434, -0.43268619],\n",
       "       [-1.42625404,  1.07013975],\n",
       "       ...,\n",
       "       [-1.15404732, -1.41025258],\n",
       "       [-0.52252773, -0.8412214 ],\n",
       "       [-1.15404732, -1.41025258]])"
      ]
     },
     "execution_count": 41,
     "metadata": {},
     "output_type": "execute_result"
    }
   ],
   "source": [
    "data_scaled"
   ]
  },
  {
   "cell_type": "code",
   "execution_count": 74,
   "id": "4cab5513",
   "metadata": {},
   "outputs": [
    {
     "data": {
      "text/plain": [
       "(array([7.5690e+03, 1.0681e+04, 2.8140e+03, 4.4100e+02, 7.7000e+01,\n",
       "        2.4000e+01, 2.0000e+00, 3.0000e+00, 1.0000e+00, 1.0000e+00]),\n",
       " array([-1.94889094, -0.50619533,  0.93650029,  2.3791959 ,  3.82189151,\n",
       "         5.26458713,  6.70728274,  8.14997836,  9.59267397, 11.03536958,\n",
       "        12.4780652 ]),\n",
       " <BarContainer object of 10 artists>)"
      ]
     },
     "execution_count": 74,
     "metadata": {},
     "output_type": "execute_result"
    },
    {
     "data": {
      "image/png": "[encoded data removed]",
      "text/plain": [
       "<Figure size 432x288 with 1 Axes>"
      ]
     },
     "metadata": {
      "needs_background": "light"
     },
     "output_type": "display_data"
    }
   ],
   "source": [
    "plt.hist(data_scaled[:,0],bins=10)"
   ]
  },
  {
   "cell_type": "code",
   "execution_count": 73,
   "id": "b15f0c44",
   "metadata": {},
   "outputs": [
    {
     "data": {
      "text/plain": [
       "(array([ 312., 6440., 7587., 4200., 2004.,  731.,  235.,   84.,   12.,\n",
       "           8.]),\n",
       " array([-2.3163253 , -1.46846884, -0.62061239,  0.22724407,  1.07510053,\n",
       "         1.92295699,  2.77081345,  3.61866991,  4.46652636,  5.31438282,\n",
       "         6.16223928]),\n",
       " <BarContainer object of 10 artists>)"
      ]
     },
     "execution_count": 73,
     "metadata": {},
     "output_type": "execute_result"
    },
    {
     "data": {
      "image/png": "[encoded data removed]",
      "text/plain": [
       "<Figure size 432x288 with 1 Axes>"
      ]
     },
     "metadata": {
      "needs_background": "light"
     },
     "output_type": "display_data"
    }
   ],
   "source": [
    "plt.hist(data_scaled[:,1],bins=10)"
   ]
  },
  {
   "cell_type": "markdown",
   "id": "43c6c891",
   "metadata": {},
   "source": [
    "The above two histograms are representation of scaled values....that is normally distributed features after scaling."
   ]
  },
  {
   "cell_type": "markdown",
   "id": "ad65afd4",
   "metadata": {},
   "source": [
    "# 2.NORMALIZATION (MIN-MAX SCALAR)"
   ]
  },
  {
   "cell_type": "markdown",
   "id": "e65d07d0",
   "metadata": {},
   "source": [
    "Min Max Scaling scales the values between 0 to 1.\n",
    "X_scaled = (X - X.min / (X.max - X.min)"
   ]
  },
  {
   "cell_type": "code",
   "execution_count": 66,
   "id": "fd2be916",
   "metadata": {},
   "outputs": [
    {
     "data": {
      "text/html": [
       "<div>\n",
       "<style scoped>\n",
       "    .dataframe tbody tr th:only-of-type {\n",
       "        vertical-align: middle;\n",
       "    }\n",
       "\n",
       "    .dataframe tbody tr th {\n",
       "        vertical-align: top;\n",
       "    }\n",
       "\n",
       "    .dataframe thead th {\n",
       "        text-align: right;\n",
       "    }\n",
       "</style>\n",
       "<table border=\"1\" class=\"dataframe\">\n",
       "  <thead>\n",
       "    <tr style=\"text-align: right;\">\n",
       "      <th></th>\n",
       "      <th>0</th>\n",
       "      <th>1</th>\n",
       "    </tr>\n",
       "  </thead>\n",
       "  <tbody>\n",
       "    <tr>\n",
       "      <th>0</th>\n",
       "      <td>0.067170</td>\n",
       "      <td>0.161934</td>\n",
       "    </tr>\n",
       "    <tr>\n",
       "      <th>1</th>\n",
       "      <td>0.172075</td>\n",
       "      <td>0.222165</td>\n",
       "    </tr>\n",
       "    <tr>\n",
       "      <th>2</th>\n",
       "      <td>0.036226</td>\n",
       "      <td>0.399415</td>\n",
       "    </tr>\n",
       "    <tr>\n",
       "      <th>3</th>\n",
       "      <td>0.126038</td>\n",
       "      <td>0.165376</td>\n",
       "    </tr>\n",
       "    <tr>\n",
       "      <th>4</th>\n",
       "      <td>0.104906</td>\n",
       "      <td>0.241094</td>\n",
       "    </tr>\n",
       "  </tbody>\n",
       "</table>\n",
       "</div>"
      ],
      "text/plain": [
       "          0         1\n",
       "0  0.067170  0.161934\n",
       "1  0.172075  0.222165\n",
       "2  0.036226  0.399415\n",
       "3  0.126038  0.165376\n",
       "4  0.104906  0.241094"
      ]
     },
     "execution_count": 66,
     "metadata": {},
     "output_type": "execute_result"
    }
   ],
   "source": [
    "from sklearn.preprocessing import MinMaxScaler\n",
    "scale1=MinMaxScaler()\n",
    "data1_scaled=scale1.fit_transform(data)\n",
    "pd.DataFrame(data1_scaled).head()"
   ]
  },
  {
   "cell_type": "code",
   "execution_count": 75,
   "id": "6e01fd03",
   "metadata": {},
   "outputs": [
    {
     "data": {
      "text/plain": [
       "(array([7.5700e+03, 1.0714e+04, 2.7800e+03, 4.4100e+02, 7.7000e+01,\n",
       "        2.4000e+01, 2.0000e+00, 3.0000e+00, 1.0000e+00, 1.0000e+00]),\n",
       " array([0. , 0.1, 0.2, 0.3, 0.4, 0.5, 0.6, 0.7, 0.8, 0.9, 1. ]),\n",
       " <BarContainer object of 10 artists>)"
      ]
     },
     "execution_count": 75,
     "metadata": {},
     "output_type": "execute_result"
    },
    {
     "data": {
      "image/png": "[encoded data removed]",
      "text/plain": [
       "<Figure size 432x288 with 1 Axes>"
      ]
     },
     "metadata": {
      "needs_background": "light"
     },
     "output_type": "display_data"
    }
   ],
   "source": [
    "plt.hist(data1_scaled[:,0],bins=10)"
   ]
  },
  {
   "cell_type": "code",
   "execution_count": 77,
   "id": "f4e3fda9",
   "metadata": {},
   "outputs": [
    {
     "data": {
      "text/plain": [
       "(array([ 312., 6440., 7587., 4200., 2004.,  731.,  235.,   84.,   12.,\n",
       "           8.]),\n",
       " array([0. , 0.1, 0.2, 0.3, 0.4, 0.5, 0.6, 0.7, 0.8, 0.9, 1. ]),\n",
       " <BarContainer object of 10 artists>)"
      ]
     },
     "execution_count": 77,
     "metadata": {},
     "output_type": "execute_result"
    },
    {
     "data": {
      "image/png": "[encoded data removed]",
      "text/plain": [
       "<Figure size 432x288 with 1 Axes>"
      ]
     },
     "metadata": {
      "needs_background": "light"
     },
     "output_type": "display_data"
    }
   ],
   "source": [
    "plt.hist(data1_scaled[:,1],bins=10)"
   ]
  },
  {
   "cell_type": "markdown",
   "id": "1a994868",
   "metadata": {},
   "source": [
    "above 2 histograms are representation of values after minmaxscaler"
   ]
  },
  {
   "cell_type": "markdown",
   "id": "79f6f7b8",
   "metadata": {},
   "source": [
    "# 3.ROBUST SCALER"
   ]
  },
  {
   "cell_type": "markdown",
   "id": "5a116742",
   "metadata": {},
   "source": [
    "It is used to scale the feature to median and quantiles\n",
    "Scaling using median and quantiles consists of substracting the median to all the observations, and then dividing by the interquantile difference. The interquantile difference is the difference between the 75th and 25th quantile:\n",
    "\n",
    "IQR = 75th quantile - 25th quantile\n",
    "\n",
    "X_scaled = (X - X.median) / IQR"
   ]
  },
  {
   "cell_type": "markdown",
   "id": "2e73e827",
   "metadata": {},
   "source": [
    "0,1,2,3,4,5,6,7,8,9,10\n",
    "\n",
    "9th quantile-90 percentile---90% of all values in this group is less than 9\n",
    "1st quantile-10 precentile---10% of all values in this group is less than 1\n",
    "4th quantile-40 precentile---40% of all values in this group is less than 4"
   ]
  },
  {
   "cell_type": "markdown",
   "id": "d837034e",
   "metadata": {},
   "source": [
    "Use RobustScaler if you want to reduce the effects of outliers, relative to MinMaxScaler."
   ]
  },
  {
   "cell_type": "code",
   "execution_count": 81,
   "id": "981aad27",
   "metadata": {},
   "outputs": [
    {
     "data": {
      "text/html": [
       "<div>\n",
       "<style scoped>\n",
       "    .dataframe tbody tr th:only-of-type {\n",
       "        vertical-align: middle;\n",
       "    }\n",
       "\n",
       "    .dataframe tbody tr th {\n",
       "        vertical-align: top;\n",
       "    }\n",
       "\n",
       "    .dataframe thead th {\n",
       "        text-align: right;\n",
       "    }\n",
       "</style>\n",
       "<table border=\"1\" class=\"dataframe\">\n",
       "  <thead>\n",
       "    <tr style=\"text-align: right;\">\n",
       "      <th></th>\n",
       "      <th>0</th>\n",
       "      <th>1</th>\n",
       "    </tr>\n",
       "  </thead>\n",
       "  <tbody>\n",
       "    <tr>\n",
       "      <th>0</th>\n",
       "      <td>-0.650045</td>\n",
       "      <td>-0.574713</td>\n",
       "    </tr>\n",
       "    <tr>\n",
       "      <th>1</th>\n",
       "      <td>0.587711</td>\n",
       "      <td>-0.172414</td>\n",
       "    </tr>\n",
       "    <tr>\n",
       "      <th>2</th>\n",
       "      <td>-1.015138</td>\n",
       "      <td>1.011494</td>\n",
       "    </tr>\n",
       "    <tr>\n",
       "      <th>3</th>\n",
       "      <td>0.044524</td>\n",
       "      <td>-0.551724</td>\n",
       "    </tr>\n",
       "    <tr>\n",
       "      <th>4</th>\n",
       "      <td>-0.204809</td>\n",
       "      <td>-0.045977</td>\n",
       "    </tr>\n",
       "  </tbody>\n",
       "</table>\n",
       "</div>"
      ],
      "text/plain": [
       "          0         1\n",
       "0 -0.650045 -0.574713\n",
       "1  0.587711 -0.172414\n",
       "2 -1.015138  1.011494\n",
       "3  0.044524 -0.551724\n",
       "4 -0.204809 -0.045977"
      ]
     },
     "execution_count": 81,
     "metadata": {},
     "output_type": "execute_result"
    }
   ],
   "source": [
    "from sklearn.preprocessing import RobustScaler\n",
    "rob_scale=RobustScaler()\n",
    "robust=rob_scale.fit_transform(data)\n",
    "pd.DataFrame(robust).head()"
   ]
  },
  {
   "cell_type": "code",
   "execution_count": 82,
   "id": "42868105",
   "metadata": {},
   "outputs": [
    {
     "data": {
      "text/plain": [
       "(array([7.5690e+03, 1.0681e+04, 2.8140e+03, 4.4100e+02, 7.7000e+01,\n",
       "        2.4000e+01, 2.0000e+00, 3.0000e+00, 1.0000e+00, 1.0000e+00]),\n",
       " array([-1.44256456, -0.26268923,  0.91718611,  2.09706144,  3.27693678,\n",
       "         4.45681211,  5.63668744,  6.81656278,  7.99643811,  9.17631345,\n",
       "        10.35618878]),\n",
       " <BarContainer object of 10 artists>)"
      ]
     },
     "execution_count": 82,
     "metadata": {},
     "output_type": "execute_result"
    },
    {
     "data": {
      "image/png": "[encoded data removed]",
      "text/plain": [
       "<Figure size 432x288 with 1 Axes>"
      ]
     },
     "metadata": {
      "needs_background": "light"
     },
     "output_type": "display_data"
    }
   ],
   "source": [
    "plt.hist(robust[:,0],bins=10)"
   ]
  },
  {
   "cell_type": "code",
   "execution_count": 84,
   "id": "f329d9af",
   "metadata": {},
   "outputs": [
    {
     "data": {
      "text/plain": [
       "(array([ 312., 6440., 7587., 4200., 2004.,  731.,  235.,   84.,   12.,\n",
       "           8.]),\n",
       " array([-1.65632184, -0.9883908 , -0.32045977,  0.34747126,  1.0154023 ,\n",
       "         1.68333333,  2.35126437,  3.0191954 ,  3.68712644,  4.35505747,\n",
       "         5.02298851]),\n",
       " <BarContainer object of 10 artists>)"
      ]
     },
     "execution_count": 84,
     "metadata": {},
     "output_type": "execute_result"
    },
    {
     "data": {
      "image/png": "[encoded data removed]",
      "text/plain": [
       "<Figure size 432x288 with 1 Axes>"
      ]
     },
     "metadata": {
      "needs_background": "light"
     },
     "output_type": "display_data"
    }
   ],
   "source": [
    "plt.hist(robust[:,1],bins=10)"
   ]
  },
  {
   "cell_type": "markdown",
   "id": "f8dfcd54",
   "metadata": {},
   "source": [
    "The above two histograms are representation of scaled values"
   ]
  },
  {
   "cell_type": "markdown",
   "id": "76215446",
   "metadata": {},
   "source": [
    "# 4.GUASSIAN TRANSFORMATION\n",
    "        The feature will perform well when it is normally distributed........so guassion transformation deals with transformation of features to normally distributed feature\n",
    "        \n",
    "        if it is normally distributed it will give good accuracy and good performance"
   ]
  },
  {
   "cell_type": "markdown",
   "id": "56302a72",
   "metadata": {},
   "source": [
    "### It has 5 types"
   ]
  },
  {
   "cell_type": "markdown",
   "id": "66ce4ac6",
   "metadata": {},
   "source": [
    "### 1.LOGARTHMIC TRANSFORMATION\n",
    "\n",
    "Logarthmic transformation reduces the skewness of the original data\n",
    "\n",
    "this tranformation can be used when the data is left or right skewed"
   ]
  },
  {
   "cell_type": "code",
   "execution_count": 13,
   "id": "927e13c8",
   "metadata": {},
   "outputs": [],
   "source": [
    "import matplotlib.pyplot as plt\n",
    "%matplotlib inline\n",
    "import scipy.stats as stat\n",
    "import pylab \n",
    "def plot_data(data,feature):\n",
    "    plt.figure(figsize=(10,6)) # sets the size of each graph\n",
    "    plt.subplot(1,2,1)         #by using subplot we can produce graphs in same cell...plt.subplot(1 row 2 columns 1st index)\n",
    "    data[feature].hist()\n",
    "    plt.subplot(1,2,2)         #plt.subplot(1 row 2 columns 2nd index)\n",
    "    stat.probplot(data[feature],dist='norm',plot=pylab) ##qqplot\n",
    "    plt.show()\n",
    "    "
   ]
  },
  {
   "cell_type": "markdown",
   "id": "68c4278c",
   "metadata": {},
   "source": [
    "### QQ-PLOT\n",
    "In Statistics, Q-Q(quantile-quantile) plots play a very vital role to graphically analyze and compare two probability distributions by plotting their quantiles against each other. If the two distributions which we are comparing are exactly equal then the points on the Q-Q plot will perfectly lie on a straight line y = x.\n",
    "\n",
    "\n",
    "If all the points plotted on the graph perfectly lies on a straight line then we can clearly say that this distribution is Normally distribution because it is evenly aligned with the standard normal variate which is the simple concept of Q-Q plot.\n"
   ]
  },
  {
   "cell_type": "code",
   "execution_count": 86,
   "id": "6bf0ad7a",
   "metadata": {},
   "outputs": [
    {
     "data": {
      "image/png": "[encoded data removed]",
      "text/plain": [
       "<Figure size 720x432 with 2 Axes>"
      ]
     },
     "metadata": {
      "needs_background": "light"
     },
     "output_type": "display_data"
    }
   ],
   "source": [
    "plot_data(data,'sqft_living')"
   ]
  },
  {
   "cell_type": "markdown",
   "id": "350356df",
   "metadata": {},
   "source": [
    "By seeing qq plot we can say that the data is not normally distributed and also the data seemed to be right skewed so we are using logarthmic transformation"
   ]
  },
  {
   "cell_type": "code",
   "execution_count": 18,
   "id": "7db0c88a",
   "metadata": {},
   "outputs": [
    {
     "data": {
      "image/png": "[encoded data removed]",
      "text/plain": [
       "<Figure size 720x432 with 2 Axes>"
      ]
     },
     "metadata": {
      "needs_background": "light"
     },
     "output_type": "display_data"
    }
   ],
   "source": [
    "import numpy as np\n",
    "data['sqft_log']=np.log(data['sqft_living'])\n",
    "plot_data(data,'sqft_log')"
   ]
  },
  {
   "cell_type": "markdown",
   "id": "e1da9ab8",
   "metadata": {},
   "source": [
    "By seeing the qq plot we can say that the data transformned are normally distributed because the points are in the line"
   ]
  },
  {
   "cell_type": "markdown",
   "id": "75864691",
   "metadata": {},
   "source": [
    "During logarthmic transformation if the feature contains value 0 np.log() because log 0 is undefined....in such case we can use np.log1p Which returns values of log(x+1)"
   ]
  },
  {
   "cell_type": "markdown",
   "id": "efb06449",
   "metadata": {},
   "source": [
    "### 2.RECIPROCAL TRANSFORMATION\n",
    "It can be used with nonzero data and is commonly used when distributions have skewness or clear outliers. Also called inverse transformation. ..."
   ]
  },
  {
   "cell_type": "code",
   "execution_count": 88,
   "id": "2c92bc29",
   "metadata": {},
   "outputs": [
    {
     "data": {
      "image/png": "[encoded data removed]",
      "text/plain": [
       "<Figure size 720x432 with 2 Axes>"
      ]
     },
     "metadata": {
      "needs_background": "light"
     },
     "output_type": "display_data"
    }
   ],
   "source": [
    "data['sqft_rec']=1/data['sqft_living']\n",
    "plot_data(data,'sqft_rec')"
   ]
  },
  {
   "cell_type": "markdown",
   "id": "a348443c",
   "metadata": {},
   "source": [
    "### 3.SQUARE ROOT TRANSFORMATION\n",
    "The square root, x to x^(1/2) = sqrt(x), is a transformation with a moderate effect on distribution shape: it is weaker than the logarithm and the cube root. It is also used for reducing right skewness, and also has the advantage that it can be applied to zero values."
   ]
  },
  {
   "cell_type": "code",
   "execution_count": 90,
   "id": "5bdb3d62",
   "metadata": {},
   "outputs": [
    {
     "data": {
      "image/png": "[encoded data removed]",
      "text/plain": [
       "<Figure size 720x432 with 2 Axes>"
      ]
     },
     "metadata": {
      "needs_background": "light"
     },
     "output_type": "display_data"
    }
   ],
   "source": [
    "data['sqft_square']=data['sqft_living']**1/2\n",
    "plot_data(data,'sqft_square')"
   ]
  },
  {
   "cell_type": "markdown",
   "id": "cf8256fa",
   "metadata": {},
   "source": [
    "### 4.EXPONENTIAL TRANSFORMATION\n",
    "In exponential transformation we can easily set the exponent as a parameter and provide a continuous range to explore. Although this choice excludes some strongly non-linear bounds, it returns good results in general."
   ]
  },
  {
   "cell_type": "code",
   "execution_count": 91,
   "id": "5b7ec603",
   "metadata": {},
   "outputs": [
    {
     "data": {
      "image/png": "[encoded data removed]",
      "text/plain": [
       "<Figure size 720x432 with 2 Axes>"
      ]
     },
     "metadata": {
      "needs_background": "light"
     },
     "output_type": "display_data"
    }
   ],
   "source": [
    "data['sqft_exp']=data['sqft_living']**(1/1.2)\n",
    "plot_data(data,'sqft_exp')"
   ]
  },
  {
   "cell_type": "markdown",
   "id": "af93ae35",
   "metadata": {},
   "source": [
    "### 5.BOX-COX TRANSFORMATION\n",
    "The Box-Cox transformation transforms our data so that it closely resembles a normal distribution.\n",
    "\n",
    "The Box-Cox transformation is defined as: \n",
    "\n",
    "T(Y)=(Y exp(λ)−1)/λ\n",
    "\n",
    "where Y is the response variable and λ is the transformation parameter. λ varies from -5 to 5. In the transformation, all values of λ  are considered and the optimal value for a given variable is selected."
   ]
  },
  {
   "cell_type": "code",
   "execution_count": 95,
   "id": "800f0c56",
   "metadata": {},
   "outputs": [
    {
     "name": "stdout",
     "output_type": "stream",
     "text": [
      "0.028409092528514278\n"
     ]
    }
   ],
   "source": [
    "data['sqft_Box'],parameters=stat.boxcox(data['sqft_living'])\n",
    "print(parameters)"
   ]
  },
  {
   "cell_type": "code",
   "execution_count": 96,
   "id": "a10c0e32",
   "metadata": {},
   "outputs": [
    {
     "data": {
      "image/png": "[encoded data removed]",
      "text/plain": [
       "<Figure size 720x432 with 2 Axes>"
      ]
     },
     "metadata": {
      "needs_background": "light"
     },
     "output_type": "display_data"
    }
   ],
   "source": [
    "plot_data(data,'sqft_Box')"
   ]
  },
  {
   "cell_type": "markdown",
   "id": "6ab78a42",
   "metadata": {},
   "source": [
    "### So from all transformations in gaussian transformation.....logarthmic and box cox transformation is best choice for the above dataset that is house price prediction. because all the points lie on the line in qq plot\n"
   ]
  }
 ],
 "metadata": {
  "kernelspec": {
   "display_name": "Python 3",
   "language": "python",
   "name": "python3"
  },
  "language_info": {
   "codemirror_mode": {
    "name": "ipython",
    "version": 3
   },
   "file_extension": ".py",
   "mimetype": "text/x-python",
   "name": "python",
   "nbconvert_exporter": "python",
   "pygments_lexer": "ipython3",
   "version": "3.8.8"
  }
 },
 "nbformat": 4,
 "nbformat_minor": 5
}
