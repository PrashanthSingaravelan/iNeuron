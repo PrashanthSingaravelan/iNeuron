{
 "cells": [
  {
   "cell_type": "code",
   "execution_count": null,
   "id": "b2ec03ad",
   "metadata": {},
   "outputs": [],
   "source": [
    "d={\n",
    "    \"ineuron\" : {\n",
    "                    \"a\":2300,\"b\":34,\n",
    "                    'c':{89,154,78}\n",
    "                },\n",
    "    \"course\"  : {'d':45,'e':12},\"int\":999,\n",
    "    \"lis\"     : [1,44,102,5],\n",
    "    \"flt\"     : 604.05\n",
    "  }"
   ]
  },
  {
   "cell_type": "code",
   "execution_count": null,
   "id": "c8367f8f",
   "metadata": {},
   "outputs": [],
   "source": [
    "dict1 = {\n",
    "          \"ineuron\" : {\n",
    "                      \"a\":230,\"b\":34,\n",
    "                      \"c\":{\n",
    "                            89,154,78\n",
    "                          }\n",
    "                      }\n",
    "         }"
   ]
  },
  {
   "cell_type": "code",
   "execution_count": 67,
   "id": "ece0fe8f",
   "metadata": {},
   "outputs": [],
   "source": [
    "dict1={\n",
    "      \"ineuron\" : {\n",
    "                   \"a\":230,\"b\":34,\n",
    "                   'c':{\n",
    "                        89,154,78\n",
    "                       }\n",
    "                  },\n",
    "    \n",
    "      \"course\"  : {'d':45,'e':12},\n",
    "      \"int\"     : 999,\n",
    "      \"lis\"     : [1,44,102,5],\n",
    "      \"flt\"     : 604.05\n",
    "     }"
   ]
  },
  {
   "cell_type": "code",
   "execution_count": 113,
   "id": "9a1ac673",
   "metadata": {},
   "outputs": [],
   "source": [
    "dict1={\n",
    "      12345 : {\n",
    "                   97:230,98:34,\n",
    "                   99:{\n",
    "                        89,154,78\n",
    "                       }\n",
    "                  },\n",
    "    \n",
    "      12346  : {100:45,101:12},\n",
    "      12347  : 999,\n",
    "      12348  : [1,44,102,5],\n",
    "      12349  : 604.05\n",
    "     }"
   ]
  },
  {
   "cell_type": "code",
   "execution_count": 114,
   "id": "6fb05338",
   "metadata": {},
   "outputs": [
    {
     "name": "stdout",
     "output_type": "stream",
     "text": [
      "97\n",
      "98\n",
      "99\n",
      "100\n",
      "101\n"
     ]
    },
    {
     "ename": "TypeError",
     "evalue": "'int' object is not iterable",
     "output_type": "error",
     "traceback": [
      "\u001b[1;31m---------------------------------------------------------------------------\u001b[0m",
      "\u001b[1;31mTypeError\u001b[0m                                 Traceback (most recent call last)",
      "\u001b[1;32m<ipython-input-114-cec2275c03ad>\u001b[0m in \u001b[0;36m<module>\u001b[1;34m\u001b[0m\n\u001b[0;32m      1\u001b[0m \u001b[1;32mfor\u001b[0m \u001b[0mv\u001b[0m \u001b[1;32min\u001b[0m \u001b[0mdict1\u001b[0m\u001b[1;33m.\u001b[0m\u001b[0mvalues\u001b[0m\u001b[1;33m(\u001b[0m\u001b[1;33m)\u001b[0m\u001b[1;33m:\u001b[0m\u001b[1;33m\u001b[0m\u001b[1;33m\u001b[0m\u001b[0m\n\u001b[1;32m----> 2\u001b[1;33m     \u001b[1;32mfor\u001b[0m \u001b[0mx\u001b[0m \u001b[1;32min\u001b[0m \u001b[0mv\u001b[0m\u001b[1;33m:\u001b[0m\u001b[1;33m\u001b[0m\u001b[1;33m\u001b[0m\u001b[0m\n\u001b[0m\u001b[0;32m      3\u001b[0m         \u001b[0mprint\u001b[0m\u001b[1;33m(\u001b[0m\u001b[0mx\u001b[0m\u001b[1;33m)\u001b[0m\u001b[1;33m\u001b[0m\u001b[1;33m\u001b[0m\u001b[0m\n",
      "\u001b[1;31mTypeError\u001b[0m: 'int' object is not iterable"
     ]
    }
   ],
   "source": [
    "for v in dict1.values():\n",
    "    for x in v:\n",
    "        print(x)"
   ]
  },
  {
   "cell_type": "code",
   "execution_count": 142,
   "id": "c51f9dbc",
   "metadata": {},
   "outputs": [
    {
     "name": "stdout",
     "output_type": "stream",
     "text": [
      "Length of v :  2    80 130 \n",
      "Length of v :  1    64 \n",
      "Length of v :  2    80 58 \n",
      "Length of v :  1    200 \n",
      "Length of v :  3    97 98 99 \n"
     ]
    }
   ],
   "source": [
    "content = {\n",
    "           88962: [80, 130], \n",
    "           87484: [64], \n",
    "           53662: {58,80} , \n",
    "           88963: [200],\n",
    "           12345: {\n",
    "                   97:130,98:230,\n",
    "                   99:{\n",
    "                        330,430,530\n",
    "                       }\n",
    "                  }\n",
    "          }\n",
    "        \n",
    "for v in content.values():\n",
    "    print(\"Length of v : \",len(v),end='    ')\n",
    "    for x in v:\n",
    "        print(x,end=' ')\n",
    "    print()"
   ]
  },
  {
   "cell_type": "code",
   "execution_count": null,
   "id": "3c457c79",
   "metadata": {},
   "outputs": [],
   "source": []
  },
  {
   "cell_type": "code",
   "execution_count": null,
   "id": "3001262c",
   "metadata": {},
   "outputs": [],
   "source": [
    "content = {\n",
    "           88962: [80, 130], \n",
    "           87484: [64], \n",
    "           53662: {58,80} , \n",
    "           88963: [200],\n",
    "           12345: {\n",
    "                   97:[130],98:[230],\n",
    "                   99:[\n",
    "                        330,430,530\n",
    "                      ]\n",
    "                  }\n",
    "          }"
   ]
  },
  {
   "cell_type": "code",
   "execution_count": 37,
   "id": "2d965245",
   "metadata": {},
   "outputs": [],
   "source": [
    "dict={\n",
    "      \"ineuron\" : {\"a\":230,\"b\":34,'c':{89,154,78}},\n",
    "      'course' :{'d':45,'e':12},\n",
    "      \"int\":999,\n",
    "      \"lis\":[1,44,102,5],\n",
    "      \"flt\":604.05\n",
    "     }"
   ]
  },
  {
   "cell_type": "code",
   "execution_count": 64,
   "id": "fa2a0a71",
   "metadata": {},
   "outputs": [
    {
     "name": "stdout",
     "output_type": "stream",
     "text": [
      "Type of v   :  <class 'list'>    Length of v :  1    999 \n",
      "Type of v   :  <class 'list'>    Length of v :  4    1 44 102 5 \n",
      "Type of v   :  <class 'list'>    Length of v :  1    604.05 \n"
     ]
    }
   ],
   "source": [
    "def fun1(sample_dict):\n",
    "    temp_sum = []\n",
    "    for v in sample_dict.values():\n",
    "        for x in v:\n",
    "            temp_sum.append(x)\n",
    "    return sum(temp_sum)\n",
    "\n",
    "if __name__ == \"__main__\":\n",
    "    dict_1 =\n",
    "        {\n",
    "              12345 : {\n",
    "                      97:[230],98:[34],\n",
    "                      99:{ 89,154,78}\n",
    "                  },\n",
    "\n",
    "              12346  : {\n",
    "                          100:[45],\n",
    "                          101:[12]\n",
    "                 },\n",
    "        \n",
    "              12347  : [999],\n",
    "              12348  : [1,44,102,5],\n",
    "              12349  : [604.05],\n",
    "         }\n",
    "\n",
    "    list1     = []\n",
    "    list1_sum = []\n",
    "    \n",
    "    for v in dict_1.values():\n",
    "        if (isinstance(v,dict)!=True):\n",
    "            print(\"Type of v   : \",type(v),end='    ')\n",
    "            print(\"Length of v : \",len(v),end='    ')\n",
    "            for x in v:\n",
    "                list1.append(x)\n",
    "                print(x,end=' ')\n",
    "\n",
    "            list1_sum.append(sum(list1))\n",
    "            list1 = []\n",
    "            print()\n",
    "        else:\n",
    "            list1_sum.append(fun1(v))"
   ]
  },
  {
   "cell_type": "code",
   "execution_count": 65,
   "id": "8c00c403",
   "metadata": {},
   "outputs": [
    {
     "name": "stdout",
     "output_type": "stream",
     "text": [
      "Sum :  [585, 57, 999, 152, 604.05]\n"
     ]
    }
   ],
   "source": [
    "print(\"Sum : \",list1_sum)"
   ]
  },
  {
   "cell_type": "code",
   "execution_count": 52,
   "id": "831428f3",
   "metadata": {},
   "outputs": [
    {
     "data": {
      "text/plain": [
       "[585, 57, 999, 152, 604.05]"
      ]
     },
     "execution_count": 52,
     "metadata": {},
     "output_type": "execute_result"
    }
   ],
   "source": []
  },
  {
   "cell_type": "code",
   "execution_count": 166,
   "id": "574cf056",
   "metadata": {},
   "outputs": [],
   "source": [
    "temp_dict = {\n",
    "              10: {\n",
    "                   97:[130],98:[230],\n",
    "                   99:[\n",
    "                        330,430,530\n",
    "                      ]\n",
    "              }\n",
    "  }"
   ]
  },
  {
   "cell_type": "code",
   "execution_count": 176,
   "id": "10d7b45f",
   "metadata": {},
   "outputs": [],
   "source": [
    "if (isinstance(temp_dict,dict)==False):\n",
    "    print(1)"
   ]
  },
  {
   "cell_type": "code",
   "execution_count": 42,
   "id": "2381087c",
   "metadata": {},
   "outputs": [
    {
     "name": "stdout",
     "output_type": "stream",
     "text": [
      "<class 'tuple'>\n",
      "<class 'tuple'>\n",
      "<class 'tuple'>\n",
      "<class 'tuple'>\n",
      "<class 'tuple'>\n"
     ]
    }
   ],
   "source": [
    "for i in dict1.items():\n",
    "    print(type(i))"
   ]
  },
  {
   "cell_type": "code",
   "execution_count": 44,
   "id": "48e8979e",
   "metadata": {},
   "outputs": [
    {
     "name": "stdout",
     "output_type": "stream",
     "text": [
      "True\n"
     ]
    }
   ],
   "source": [
    "print(any(isinstance(i,dict) for i in dict1.values()))"
   ]
  },
  {
   "cell_type": "code",
   "execution_count": null,
   "id": "c8daaacb",
   "metadata": {},
   "outputs": [],
   "source": [
    "dict1."
   ]
  }
 ],
 "metadata": {
  "kernelspec": {
   "display_name": "Python 3",
   "language": "python",
   "name": "python3"
  },
  "language_info": {
   "codemirror_mode": {
    "name": "ipython",
    "version": 3
   },
   "file_extension": ".py",
   "mimetype": "text/x-python",
   "name": "python",
   "nbconvert_exporter": "python",
   "pygments_lexer": "ipython3",
   "version": "3.8.8"
  }
 },
 "nbformat": 4,
 "nbformat_minor": 5
}
