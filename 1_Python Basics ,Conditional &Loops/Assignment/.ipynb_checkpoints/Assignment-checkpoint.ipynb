{
 "cells": [
  {
   "cell_type": "code",
   "execution_count": 2,
   "metadata": {},
   "outputs": [
    {
     "name": "stdout",
     "output_type": "stream",
     "text": [
      "Enter your first name : pras\n",
      "Enter your last name : rtp\n",
      "sarpptr\n"
     ]
    }
   ],
   "source": [
    "first_name = input(\"Enter your first name : \")\n",
    "last_name = input(\"Enter your last name : \")\n",
    "\n",
    "str1 = []\n",
    "for i in range(1, len(first_name) + 1):\n",
    "    str1.append(first_name[-i])\n",
    "    \n",
    "str1.append(\" \")\n",
    "\n",
    "for i in range(1, len(last_name) + 1):\n",
    "    str1.append(last_name[-i])\n",
    "\n",
    "print(\"\".join(str2))"
   ]
  },
  {
   "cell_type": "code",
   "execution_count": null,
   "metadata": {},
   "outputs": [],
   "source": []
  }
 ],
 "metadata": {
  "kernelspec": {
   "display_name": "Python 3",
   "language": "python",
   "name": "python3"
  },
  "language_info": {
   "codemirror_mode": {
    "name": "ipython",
    "version": 3
   },
   "file_extension": ".py",
   "mimetype": "text/x-python",
   "name": "python",
   "nbconvert_exporter": "python",
   "pygments_lexer": "ipython3",
   "version": "3.7.6"
  }
 },
 "nbformat": 4,
 "nbformat_minor": 4
}
