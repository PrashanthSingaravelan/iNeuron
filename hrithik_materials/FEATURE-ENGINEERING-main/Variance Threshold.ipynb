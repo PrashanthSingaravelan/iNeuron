{
 "cells": [
  {
   "cell_type": "markdown",
   "id": "4cb7713f",
   "metadata": {},
   "source": [
    "# FEATURE SELECTION-VARIANCE THRESHOLD"
   ]
  },
  {
   "cell_type": "markdown",
   "id": "cc151c47",
   "metadata": {},
   "source": [
    "This feature selector from sklearn will remove the features with low variance or it will remove the features which is less then or equal to its threshold value.\n",
    "\n",
    "Default threshold value will be 0\n",
    "\n",
    "Allows NaN in the input. Raises ValueError if no feature in X meets the variance threshold."
   ]
  },
  {
   "cell_type": "markdown",
   "id": "bf9fb0e5",
   "metadata": {},
   "source": [
    "This feature selection algorithm looks only at the features (X), not the desired outputs (y), and can thus be used for unsupervised learning."
   ]
  },
  {
   "cell_type": "markdown",
   "id": "f9cad663",
   "metadata": {},
   "source": [
    "## DROPPING CONSTANT FEATURES-----THRESHOLD=0"
   ]
  },
  {
   "cell_type": "markdown",
   "id": "b28d58b2",
   "metadata": {},
   "source": [
    "Dropping constant features means dropping the column which contains same values.Which is considered as the unwanted feature for model training.\n",
    "\n",
    "The feature with same values repeating means the feature has variance 0."
   ]
  },
  {
   "cell_type": "code",
   "execution_count": 2,
   "id": "29092df2",
   "metadata": {},
   "outputs": [
    {
     "data": {
      "text/html": [
       "<div>\n",
       "<style scoped>\n",
       "    .dataframe tbody tr th:only-of-type {\n",
       "        vertical-align: middle;\n",
       "    }\n",
       "\n",
       "    .dataframe tbody tr th {\n",
       "        vertical-align: top;\n",
       "    }\n",
       "\n",
       "    .dataframe thead th {\n",
       "        text-align: right;\n",
       "    }\n",
       "</style>\n",
       "<table border=\"1\" class=\"dataframe\">\n",
       "  <thead>\n",
       "    <tr style=\"text-align: right;\">\n",
       "      <th></th>\n",
       "      <th>A</th>\n",
       "      <th>B</th>\n",
       "    </tr>\n",
       "  </thead>\n",
       "  <tbody>\n",
       "    <tr>\n",
       "      <th>0</th>\n",
       "      <td>1</td>\n",
       "      <td>1</td>\n",
       "    </tr>\n",
       "    <tr>\n",
       "      <th>1</th>\n",
       "      <td>2</td>\n",
       "      <td>1</td>\n",
       "    </tr>\n",
       "    <tr>\n",
       "      <th>2</th>\n",
       "      <td>3</td>\n",
       "      <td>1</td>\n",
       "    </tr>\n",
       "    <tr>\n",
       "      <th>3</th>\n",
       "      <td>4</td>\n",
       "      <td>1</td>\n",
       "    </tr>\n",
       "    <tr>\n",
       "      <th>4</th>\n",
       "      <td>5</td>\n",
       "      <td>1</td>\n",
       "    </tr>\n",
       "  </tbody>\n",
       "</table>\n",
       "</div>"
      ],
      "text/plain": [
       "   A  B\n",
       "0  1  1\n",
       "1  2  1\n",
       "2  3  1\n",
       "3  4  1\n",
       "4  5  1"
      ]
     },
     "execution_count": 2,
     "metadata": {},
     "output_type": "execute_result"
    }
   ],
   "source": [
    "import pandas as pd\n",
    "df=pd.DataFrame({\"A\":[1,2,3,4,5],\n",
    "                 \"B\":[1,1,1,1,1]})\n",
    "df.head()"
   ]
  },
  {
   "cell_type": "markdown",
   "id": "999d4b1a",
   "metadata": {},
   "source": [
    "Here in the above dataframe A has different values and B has same values throught the column\n",
    "\n",
    "So we can clear that feature using variance threshold....setting threshold to 0"
   ]
  },
  {
   "cell_type": "code",
   "execution_count": 7,
   "id": "93520476",
   "metadata": {},
   "outputs": [
    {
     "data": {
      "text/plain": [
       "VarianceThreshold(threshold=0)"
      ]
     },
     "execution_count": 7,
     "metadata": {},
     "output_type": "execute_result"
    }
   ],
   "source": [
    "from sklearn.feature_selection import VarianceThreshold\n",
    "vt=VarianceThreshold(threshold=0)\n",
    "vt.fit(df)\n"
   ]
  },
  {
   "cell_type": "markdown",
   "id": "4bf44780",
   "metadata": {},
   "source": [
    "Here i have set the threshold value to 0 and computed the variance for the features using fit()"
   ]
  },
  {
   "cell_type": "code",
   "execution_count": 11,
   "id": "1ba57e00",
   "metadata": {},
   "outputs": [
    {
     "data": {
      "text/plain": [
       "array([ True, False])"
      ]
     },
     "execution_count": 11,
     "metadata": {},
     "output_type": "execute_result"
    }
   ],
   "source": [
    "vt.get_support(indices=False)"
   ]
  },
  {
   "cell_type": "markdown",
   "id": "e96e40e3",
   "metadata": {},
   "source": [
    "The above statment returns the boolean value for the features in vt...If the feature has the variance value 0 as per boolean get_support will return false else it will be true"
   ]
  },
  {
   "cell_type": "markdown",
   "id": "18ef83f9",
   "metadata": {},
   "source": [
    "As per output first feature A is true, means the variance of A is non zero and second feature is false because the variance is 0"
   ]
  },
  {
   "cell_type": "code",
   "execution_count": 14,
   "id": "cba584e7",
   "metadata": {},
   "outputs": [
    {
     "data": {
      "text/plain": [
       "Index(['A'], dtype='object')"
      ]
     },
     "execution_count": 14,
     "metadata": {},
     "output_type": "execute_result"
    }
   ],
   "source": [
    "df.columns[vt.get_support(indices=False)]"
   ]
  },
  {
   "cell_type": "markdown",
   "id": "f9ed0d6c",
   "metadata": {},
   "source": [
    "It returns the column name with non zero variance"
   ]
  },
  {
   "cell_type": "code",
   "execution_count": 17,
   "id": "f8896b2f",
   "metadata": {},
   "outputs": [
    {
     "data": {
      "text/plain": [
       "['B']"
      ]
     },
     "execution_count": 17,
     "metadata": {},
     "output_type": "execute_result"
    }
   ],
   "source": [
    "zero_var_col=[i for i in df.columns if i not in df.columns[vt.get_support(indices=False)]]\n",
    "zero_var_col"
   ]
  },
  {
   "cell_type": "markdown",
   "id": "3eeba10c",
   "metadata": {},
   "source": [
    "Using the list comprehension the columns with zero variance is stored in zero_var_col"
   ]
  },
  {
   "cell_type": "code",
   "execution_count": 18,
   "id": "4154495f",
   "metadata": {},
   "outputs": [
    {
     "data": {
      "text/html": [
       "<div>\n",
       "<style scoped>\n",
       "    .dataframe tbody tr th:only-of-type {\n",
       "        vertical-align: middle;\n",
       "    }\n",
       "\n",
       "    .dataframe tbody tr th {\n",
       "        vertical-align: top;\n",
       "    }\n",
       "\n",
       "    .dataframe thead th {\n",
       "        text-align: right;\n",
       "    }\n",
       "</style>\n",
       "<table border=\"1\" class=\"dataframe\">\n",
       "  <thead>\n",
       "    <tr style=\"text-align: right;\">\n",
       "      <th></th>\n",
       "      <th>A</th>\n",
       "    </tr>\n",
       "  </thead>\n",
       "  <tbody>\n",
       "    <tr>\n",
       "      <th>0</th>\n",
       "      <td>1</td>\n",
       "    </tr>\n",
       "    <tr>\n",
       "      <th>1</th>\n",
       "      <td>2</td>\n",
       "    </tr>\n",
       "    <tr>\n",
       "      <th>2</th>\n",
       "      <td>3</td>\n",
       "    </tr>\n",
       "    <tr>\n",
       "      <th>3</th>\n",
       "      <td>4</td>\n",
       "    </tr>\n",
       "    <tr>\n",
       "      <th>4</th>\n",
       "      <td>5</td>\n",
       "    </tr>\n",
       "  </tbody>\n",
       "</table>\n",
       "</div>"
      ],
      "text/plain": [
       "   A\n",
       "0  1\n",
       "1  2\n",
       "2  3\n",
       "3  4\n",
       "4  5"
      ]
     },
     "execution_count": 18,
     "metadata": {},
     "output_type": "execute_result"
    }
   ],
   "source": [
    "df.drop(zero_var_col,axis=1)"
   ]
  },
  {
   "cell_type": "markdown",
   "id": "872122b0",
   "metadata": {},
   "source": [
    "Successfully!!!!!The feature with zero variance is dropped and remaining features will be displayed"
   ]
  },
  {
   "cell_type": "markdown",
   "id": "857cf684",
   "metadata": {},
   "source": [
    "## IN LARGE DATASETS THIS VARIANCE THRESHOLD TECHNIQUE WILL BE IMPLEMENTED IN TRAINING SET\n",
    "\n",
    "## PROCESS IS SAME AS ABOVE  "
   ]
  },
  {
   "cell_type": "code",
   "execution_count": null,
   "id": "dfe38581",
   "metadata": {},
   "outputs": [],
   "source": []
  }
 ],
 "metadata": {
  "kernelspec": {
   "display_name": "Python 3",
   "language": "python",
   "name": "python3"
  },
  "language_info": {
   "codemirror_mode": {
    "name": "ipython",
    "version": 3
   },
   "file_extension": ".py",
   "mimetype": "text/x-python",
   "name": "python",
   "nbconvert_exporter": "python",
   "pygments_lexer": "ipython3",
   "version": "3.8.8"
  }
 },
 "nbformat": 4,
 "nbformat_minor": 5
}
